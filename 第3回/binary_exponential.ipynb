{
 "cells": [
  {
   "cell_type": "code",
   "execution_count": 3,
   "metadata": {},
   "outputs": [],
   "source": [
    "import time\n",
    "\n",
    "# 定数を格納したjupyter notebookを起動\n",
    "%run seccap_constant_200707.ipynb"
   ]
  },
  {
   "cell_type": "code",
   "execution_count": 4,
   "metadata": {},
   "outputs": [],
   "source": [
    "#Algorithm 28 法 n 上のバイナリ法 mod_binary(g, k, n)\n",
    "#Input: 整数: g, k, n (n は素数と合成数のどちらも取りうる)\n",
    "#Output: g^k mod n\n",
    "def mod_binary(g, k, n):\n",
    "    y = g\n",
    "    x = [int(b) for b in bin(k)[2:]]\n",
    "    for i in range(1, len(x)):\n",
    "        y = (y**2) % n\n",
    "        if x[i] == 1:\n",
    "            y = (y * g) % n\n",
    "    \n",
    "    return y"
   ]
  },
  {
   "cell_type": "code",
   "execution_count": 5,
   "metadata": {},
   "outputs": [],
   "source": [
    "#Algorithm 25 実行時間の計測 time_check(t_s, t_e)\n",
    "#Input: 計測開始地点：t_s, 計測終了地点の時刻：t_e\n",
    "#Output: t_s − t_e\n",
    "\n",
    "def time_check(t_s, t_e):\n",
    "    return t_s - t_e"
   ]
  },
  {
   "cell_type": "code",
   "execution_count": 8,
   "metadata": {},
   "outputs": [
    {
     "name": "stdout",
     "output_type": "stream",
     "text": [
      "(1) 135214237181380826484956983728611385411832590430646448581723031839381709817787435702808936958494645339068496727755291543151810530411848202283774413581898661881087882792193798732632995266502107110758060666229024505245335741593252114221378204403108914617845239415541282476848334205218793022801199211746923930986\n",
      "(2) 299908310458831540028206609495937816047789001459\n",
      "(3) 330366298031365777452410605025472997817625107738\n",
      "\n",
      "\n",
      " (1) time :  -3.7418658189999405 [ms]\n",
      "\n",
      "\n",
      " (2) time :  -0.13040533999992476 [ms]\n",
      "\n",
      "\n",
      " (3) time :  -0.15231702100027178 [ms]\n"
     ]
    }
   ],
   "source": [
    "#演習 1.3 バイナリ法を実装し，以下の Fp 上のべき乗演算の結果を求めよ．\n",
    "#(1) 表 D.3 にある p1, g1, k1 を用いて g1^k1(mod p1) を求めよ．\n",
    "print('(1)', mod_binary(D3.g1, D3.k1, D3.p1))\n",
    "\n",
    "#(2) 表 D.1 にある p4, g4, k4 を用いて g4^k4(mod p4) を求めよ．\n",
    "print('(2)', mod_binary(D1.g4, D1.k4, D1.p4))\n",
    "\n",
    "#(3) 表 D.1 にある p4, g5, k4 を用いて g5^k4(mod p4) を求めよ．\n",
    "print('(3)', mod_binary(D1.g5, D1.k4, D1.p4))\n",
    "\n",
    "#(4) 上記 3 つの実行速度を測定する．実測値は 10^3 回実施し，平均値を求める．\n",
    "t_s = time.perf_counter()\n",
    "for i in range(1000):\n",
    "    mod_binary(D3.g1, D3.k1, D3.p1)\n",
    "t_e = time.perf_counter()\n",
    "print('\\n\\n (1) time : ', time_check(t_s, t_e), '[ms]')\n",
    "\n",
    "t_s = time.perf_counter()\n",
    "for i in range(1000):\n",
    "    mod_binary(D1.g4, D1.k4, D1.p4)\n",
    "t_e = time.perf_counter()\n",
    "print('\\n\\n (2) time : ', time_check(t_s, t_e), '[ms]')\n",
    "\n",
    "t_s = time.perf_counter()\n",
    "for i in range(1000):\n",
    "    mod_binary(D1.g5, D1.k4, D1.p4)\n",
    "t_e = time.perf_counter()\n",
    "print('\\n\\n (3) time : ', time_check(t_s, t_e), '[ms]')"
   ]
  }
 ],
 "metadata": {
  "kernelspec": {
   "display_name": "Python 3",
   "language": "python",
   "name": "python3"
  },
  "language_info": {
   "codemirror_mode": {
    "name": "ipython",
    "version": 3
   },
   "file_extension": ".py",
   "mimetype": "text/x-python",
   "name": "python",
   "nbconvert_exporter": "python",
   "pygments_lexer": "ipython3",
   "version": "3.7.3"
  }
 },
 "nbformat": 4,
 "nbformat_minor": 4
}

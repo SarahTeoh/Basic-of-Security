{
 "cells": [
  {
   "cell_type": "code",
   "execution_count": 15,
   "metadata": {},
   "outputs": [],
   "source": [
    "import time\n",
    "\n",
    "# 定数を格納したjupyter notebookを起動\n",
    "%run seccap_constant_200707.ipynb"
   ]
  },
  {
   "cell_type": "code",
   "execution_count": 16,
   "metadata": {},
   "outputs": [],
   "source": [
    "#Algorithm 23 拡張ユークリッドの互除法 exEuclid(a, b)\n",
    "#Input: 整数: a, b\n",
    "#Output: 整数のリスト: [d = ax + by, x, y]\n",
    "def exEuclid(a, b):\n",
    "    a0, a1 = a, b\n",
    "    x0, x1 = 1, 0\n",
    "    y0, y1 = 0, 1\n",
    "    while a1 != 0:\n",
    "        m = a0 % a1  # a_(i+1)\n",
    "        q = a0 // a1  # q_i\n",
    "\n",
    "        a0, a1 = a1, m  \n",
    "        x0, x1 = x1, (x0 - q*x1)  \n",
    "        y0, y1 = y1, (y0 - q*y1)  \n",
    "    \n",
    "    answer = [a0, x0, y0]\n",
    "    \n",
    "    return answer"
   ]
  },
  {
   "cell_type": "code",
   "execution_count": 17,
   "metadata": {},
   "outputs": [],
   "source": [
    "# Algorithm 24 逆元 inv(a, n)\n",
    "# Input: 整数: a, n (gcd(a, n)= 1, n は素数と合成数のどちらも取りうる)\n",
    "# Output: 整数: a^(-1) mod n\n",
    "def inv(a, n):\n",
    "    gcd, x, y = exEuclid(a, n) \n",
    "    if gcd != 1: \n",
    "        return None  # 逆元存在しない\n",
    "    else: \n",
    "        return x % n \n",
    "    return"
   ]
  },
  {
   "cell_type": "code",
   "execution_count": 18,
   "metadata": {},
   "outputs": [],
   "source": [
    "#Algorithm 25 実行時間の計測 time_check(t_s, t_e)\n",
    "#Input: 計測開始地点：t_s, 計測終了地点の時刻：t_e\n",
    "#Output: t_s − t_e\n",
    "\n",
    "def time_check(t_s, t_e):\n",
    "    return t_s - t_e"
   ]
  },
  {
   "cell_type": "code",
   "execution_count": 19,
   "metadata": {},
   "outputs": [
    {
     "name": "stdout",
     "output_type": "stream",
     "text": [
      "(1) 89884656743115795385419578396893726598930148024378005853222211842098590108079259684473916897932462770751090282742990251823220274099619550025396438501677908319614776568119538254367879957411287431287503712651038723856294775478968889212221213308667363814649693834354602803025135405421453846466009564097233813504\n",
      "(2) 425127162187458689120360369757240482741331625433688821728299998917774853749733155381124391363795849219476435789114067273252365926759490825789190121550409709915159497507110494116687856399843763196929969567552979923498349296985572208954011774580496121214273397570023586226599870695153138025807543491792840124\n",
      "(3) 365375409332725729761980857249820416531042172161\n",
      "(4) 45758945461813088977698591258903928240412001139\n",
      "\n",
      "\n",
      " (1) time :  -0.002530139999862513 [ms]\n",
      "\n",
      " (2) time :  -0.4071570529999917 [ms]\n",
      "\n",
      " (3) time :  -0.001233730999956606 [ms]\n",
      "\n",
      " (4) time :  -0.03569123500005844 [ms]\n"
     ]
    }
   ],
   "source": [
    "# 演習1.2 [有限体上の逆元] 拡張ユークリッドの互除法を応用して，以下のFp 上の逆元を求めよ．\n",
    "# (1) 表D.3 にあるp1, g1 を用いてg1^{-1} (mod p1) を求めよ．\n",
    "print('(1)', inv(D3.g1, D3.p1))\n",
    "\n",
    "# (2) 表D.4 にあるp2, g2 を用いてg2^{-1} (mod p2) を求めよ．\n",
    "print('(2)', inv(D4.g2, D4.p2))\n",
    "\n",
    "# (3) 表D.1 にあるp4, g4 を用いてg4^{-1} (mod p4) を求めよ．\n",
    "print('(3)', inv(D1.g4, D1.p4))\n",
    "\n",
    "# (4) 表D.1 にあるp4, g5 を用いてg5^{-1} (mod p4) を求めよ．\n",
    "print('(4)', inv(D1.g5, D1.p4))\n",
    "\n",
    "\n",
    "# (5) 上記4つの実行速度を測定せよ．(実行速度は10^3 回実施し，平均値を求める．)\n",
    "# (1)\n",
    "t_s = time.perf_counter()\n",
    "for i in range(1000):\n",
    "    inv(D3.g1, D3.p1)\n",
    "t_e = time.perf_counter()\n",
    "print('\\n\\n (1) time : ', time_check(t_s, t_e), '[ms]')\n",
    "\n",
    "# (2)\n",
    "t_s = time.perf_counter()\n",
    "for i in range(1000):\n",
    "    inv(D4.p2, D4.g2)\n",
    "t_e = time.perf_counter()\n",
    "print('\\n (2) time : ', time_check(t_s, t_e), '[ms]')\n",
    "\n",
    "# (3)\n",
    "t_s = time.perf_counter()\n",
    "for i in range(1000):\n",
    "    inv(D1.g4, D1.p4)\n",
    "t_e = time.perf_counter()\n",
    "print('\\n (3) time : ', time_check(t_s, t_e), '[ms]')\n",
    "\n",
    "# (4)\n",
    "t_s = time.perf_counter()\n",
    "for i in range(1000):\n",
    "    inv(D1.g5, D1.p4)\n",
    "t_e = time.perf_counter()\n",
    "print('\\n (4) time : ', time_check(t_s, t_e), '[ms]')"
   ]
  }
 ],
 "metadata": {
  "kernelspec": {
   "display_name": "Python 3",
   "language": "python",
   "name": "python3"
  },
  "language_info": {
   "codemirror_mode": {
    "name": "ipython",
    "version": 3
   },
   "file_extension": ".py",
   "mimetype": "text/x-python",
   "name": "python",
   "nbconvert_exporter": "python",
   "pygments_lexer": "ipython3",
   "version": "3.7.3"
  }
 },
 "nbformat": 4,
 "nbformat_minor": 4
}

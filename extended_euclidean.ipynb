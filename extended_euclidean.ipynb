{
 "cells": [
  {
   "cell_type": "code",
   "execution_count": 7,
   "metadata": {},
   "outputs": [],
   "source": [
    "#Algorithm 23 拡張ユークリッドの互除法 exEuclid(a, b)\n",
    "#Input: 整数: a, b\n",
    "#Output: 整数のリスト: [d = ax + by, x, y]\n",
    "def exEuclid(a, b):\n",
    "    a0, a1 = a, b\n",
    "    x0, x1 = 1, 0\n",
    "    y0, y1 = 0, 1\n",
    "    while a1 != 0:\n",
    "        m = a0 % a1  # a_(i+1)\n",
    "        q = a0 // a1  # q_i\n",
    "\n",
    "        a0, a1 = a1, m  \n",
    "        x0, x1 = x1, (x0 - q*x1)  \n",
    "        y0, y1 = y1, (y0 - q*y1)  \n",
    "    \n",
    "    answer = [a0, x0, y0]\n",
    "    \n",
    "    return answer"
   ]
  },
  {
   "cell_type": "code",
   "execution_count": 8,
   "metadata": {},
   "outputs": [
    {
     "name": "stdout",
     "output_type": "stream",
     "text": [
      "-20557 108190\n",
      "No Solution.\n"
     ]
    }
   ],
   "source": [
    "#演習1.1\n",
    "#(1) a = 1234567, b = 234578\n",
    "d, x, y = exEuclid(1234567, 234578)\n",
    "if d == 1: # 解あり（右辺が1となる）\n",
    "    print(x, y)\n",
    "else:      # 解なし\n",
    "    print('No Solution.')\n",
    "\n",
    "#(2) a = 11111111, b = 22222222\n",
    "d, x, y = exEuclid(11111111, 22222222)\n",
    "if d == 1: # 解あり（右辺が1となる）\n",
    "    print(x, y)\n",
    "else:      # 解なし\n",
    "    print('No Solution.')"
   ]
  }
 ],
 "metadata": {
  "kernelspec": {
   "display_name": "Python 3",
   "language": "python",
   "name": "python3"
  },
  "language_info": {
   "codemirror_mode": {
    "name": "ipython",
    "version": 3
   },
   "file_extension": ".py",
   "mimetype": "text/x-python",
   "name": "python",
   "nbconvert_exporter": "python",
   "pygments_lexer": "ipython3",
   "version": "3.7.3"
  }
 },
 "nbformat": 4,
 "nbformat_minor": 4
}
